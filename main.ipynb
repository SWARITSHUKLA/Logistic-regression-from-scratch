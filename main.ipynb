{
 "cells": [
  {
   "cell_type": "code",
   "execution_count": 179,
   "id": "f2baac88",
   "metadata": {},
   "outputs": [],
   "source": [
    "import pandas as pd\n",
    "import numpy as np\n",
    "import seaborn as sns\n",
    "import matplotlib.pyplot as plt\n",
    "import math"
   ]
  },
  {
   "cell_type": "code",
   "execution_count": 180,
   "id": "e1bfdf3b",
   "metadata": {},
   "outputs": [],
   "source": [
    "Training_set = pd.read_csv(\"heart_disease_3features.csv\")"
   ]
  },
  {
   "cell_type": "code",
   "execution_count": 181,
   "id": "683cf5a4",
   "metadata": {},
   "outputs": [
    {
     "data": {
      "text/html": [
       "<div>\n",
       "<style scoped>\n",
       "    .dataframe tbody tr th:only-of-type {\n",
       "        vertical-align: middle;\n",
       "    }\n",
       "\n",
       "    .dataframe tbody tr th {\n",
       "        vertical-align: top;\n",
       "    }\n",
       "\n",
       "    .dataframe thead th {\n",
       "        text-align: right;\n",
       "    }\n",
       "</style>\n",
       "<table border=\"1\" class=\"dataframe\">\n",
       "  <thead>\n",
       "    <tr style=\"text-align: right;\">\n",
       "      <th></th>\n",
       "      <th>age</th>\n",
       "      <th>trestbps</th>\n",
       "      <th>thalach</th>\n",
       "      <th>heart_disease</th>\n",
       "    </tr>\n",
       "  </thead>\n",
       "  <tbody>\n",
       "    <tr>\n",
       "      <th>0</th>\n",
       "      <td>63.0</td>\n",
       "      <td>145.0</td>\n",
       "      <td>150.0</td>\n",
       "      <td>0</td>\n",
       "    </tr>\n",
       "    <tr>\n",
       "      <th>1</th>\n",
       "      <td>67.0</td>\n",
       "      <td>160.0</td>\n",
       "      <td>108.0</td>\n",
       "      <td>1</td>\n",
       "    </tr>\n",
       "    <tr>\n",
       "      <th>2</th>\n",
       "      <td>67.0</td>\n",
       "      <td>120.0</td>\n",
       "      <td>129.0</td>\n",
       "      <td>1</td>\n",
       "    </tr>\n",
       "    <tr>\n",
       "      <th>3</th>\n",
       "      <td>37.0</td>\n",
       "      <td>130.0</td>\n",
       "      <td>187.0</td>\n",
       "      <td>0</td>\n",
       "    </tr>\n",
       "    <tr>\n",
       "      <th>4</th>\n",
       "      <td>41.0</td>\n",
       "      <td>130.0</td>\n",
       "      <td>172.0</td>\n",
       "      <td>0</td>\n",
       "    </tr>\n",
       "  </tbody>\n",
       "</table>\n",
       "</div>"
      ],
      "text/plain": [
       "    age  trestbps  thalach  heart_disease\n",
       "0  63.0     145.0    150.0              0\n",
       "1  67.0     160.0    108.0              1\n",
       "2  67.0     120.0    129.0              1\n",
       "3  37.0     130.0    187.0              0\n",
       "4  41.0     130.0    172.0              0"
      ]
     },
     "execution_count": 181,
     "metadata": {},
     "output_type": "execute_result"
    }
   ],
   "source": [
    "Training_set.head()"
   ]
  },
  {
   "cell_type": "code",
   "execution_count": 182,
   "id": "24e33541",
   "metadata": {},
   "outputs": [
    {
     "data": {
      "text/plain": [
       "array([ 0.94872647,  1.39200191,  1.39200191, -1.93256387, -1.48928843,\n",
       "        0.17299446,  0.83790761,  0.28381332,  0.94872647, -0.15946212,\n",
       "        0.28381332,  0.17299446,  0.17299446, -1.15683185, -0.27028098,\n",
       "        0.28381332, -0.71355642, -0.04864326, -0.71355642, -0.60273756,\n",
       "        1.05954533,  0.39463218,  0.39463218,  0.39463218,  0.61626989,\n",
       "       -0.4919187 ,  0.39463218,  1.28118305, -1.26765071, -1.60010729,\n",
       "        1.61363963,  0.61626989,  1.05954533,  0.50545103, -1.15683185,\n",
       "       -1.37846957, -1.26765071,  0.28381332,  0.0621756 ,  0.72708875,\n",
       "        1.17036419, -1.60010729,  1.83527735,  0.50545103,  0.72708875,\n",
       "        0.39463218, -0.38109984, -0.4919187 ,  1.17036419, -0.15946212,\n",
       "       -1.48928843,  1.17036419, -1.15683185, -1.15683185,  0.61626989,\n",
       "       -0.04864326, -0.4919187 , -1.48928843, -0.04864326, -0.38109984,\n",
       "       -0.38109984, -0.93519414,  0.39463218, -0.04864326, -0.04864326,\n",
       "        0.61626989,  0.61626989, -0.04864326,  0.50545103, -0.93519414,\n",
       "        1.17036419,  1.39200191,  0.83790761,  1.17036419, -1.15683185,\n",
       "        1.17036419,  0.61626989, -0.38109984, -0.71355642,  0.39463218,\n",
       "       -1.04601299, -0.15946212, -1.71092615,  1.50282077, -0.27028098,\n",
       "       -1.15683185, -0.82437528, -0.15946212, -0.15946212, -0.38109984,\n",
       "        1.28118305,  0.83790761,  0.83790761, -1.15683185,  0.94872647,\n",
       "       -0.27028098,  0.50545103,  0.61626989, -0.27028098, -0.71355642,\n",
       "       -1.04601299, -2.26502045,  0.28381332,  1.83527735, -0.60273756,\n",
       "       -0.04864326,  0.50545103,  0.28381332,  0.72708875, -1.71092615,\n",
       "        0.72708875,  0.17299446, -0.27028098, -1.26765071,  0.83790761,\n",
       "       -1.48928843,  0.39463218, -2.15420159,  0.94872647,  1.17036419,\n",
       "       -0.71355642,  0.94872647, -0.38109984,  0.0621756 ,  1.17036419,\n",
       "       -1.04601299,  0.17299446, -0.04864326, -1.15683185,  0.83790761,\n",
       "       -0.04864326, -0.38109984, -2.81911474, -0.38109984, -1.26765071,\n",
       "        0.0621756 ,  1.72445849,  0.83790761, -2.15420159, -0.38109984,\n",
       "        0.50545103,  0.50545103, -0.27028098,  1.05954533,  0.39463218,\n",
       "       -0.82437528,  0.28381332, -1.48928843, -1.04601299,  0.61626989,\n",
       "       -0.27028098, -1.37846957,  1.39200191,  0.0621756 ,  1.05954533,\n",
       "        1.72445849, -0.38109984,  0.39463218,  0.61626989,  1.50282077,\n",
       "       -0.93519414,  2.5001905 , -0.04864326,  0.39463218, -0.71355642,\n",
       "        0.28381332, -0.27028098, -0.04864326, -2.15420159, -1.04601299,\n",
       "        1.72445849, -0.15946212,  0.50545103,  0.83790761,  1.05954533,\n",
       "        0.28381332, -0.27028098,  0.17299446, -1.26765071, -0.15946212,\n",
       "       -0.71355642,  0.17299446, -1.37846957,  0.50545103,  0.61626989,\n",
       "        0.94872647, -1.37846957,  1.28118305, -0.04864326,  1.61363963,\n",
       "       -0.4919187 , -0.38109984, -1.26765071,  0.83790761,  1.50282077,\n",
       "        1.39200191,  1.61363963, -1.04601299, -0.4919187 ,  0.50545103,\n",
       "       -0.4919187 ,  1.05954533,  0.28381332,  1.05954533, -1.26765071,\n",
       "       -1.04601299,  0.39463218, -0.4919187 ,  0.0621756 ,  0.83790761,\n",
       "       -1.93256387, -1.82174501, -1.48928843,  1.28118305, -0.27028098,\n",
       "        0.17299446, -0.93519414, -0.93519414,  1.05954533,  0.50545103,\n",
       "       -1.48928843, -0.04864326, -1.71092615, -0.15946212,  0.94872647,\n",
       "       -2.26502045, -0.82437528,  1.39200191, -0.04864326,  1.28118305,\n",
       "       -0.27028098,  0.0621756 , -0.60273756,  2.16773392, -0.04864326,\n",
       "       -0.04864326,  0.17299446, -0.93519414, -0.60273756, -1.37846957,\n",
       "       -1.48928843, -1.48928843, -0.60273756,  0.72708875,  0.61626989,\n",
       "        1.39200191,  0.39463218, -0.82437528, -0.27028098,  0.83790761,\n",
       "        0.28381332,  0.39463218,  1.05954533, -0.38109984, -1.26765071,\n",
       "       -1.37846957,  1.39200191,  2.38937164,  1.72445849,  0.28381332,\n",
       "       -1.15683185,  0.39463218,  0.61626989, -1.15683185,  0.72708875,\n",
       "       -1.37846957, -0.27028098,  0.50545103, -1.60010729, -1.37846957,\n",
       "        0.72708875,  1.28118305, -0.93519414,  1.83527735,  0.50545103,\n",
       "        1.05954533,  1.28118305, -1.71092615,  0.28381332,  0.39463218,\n",
       "        0.28381332, -0.82437528,  0.0621756 , -2.15420159,  0.72708875,\n",
       "        0.39463218,  0.39463218,  0.39463218,  0.17299446,  0.17299446,\n",
       "        1.39200191,  0.0621756 , -1.15683185,  0.94872647,  0.94872647,\n",
       "       -1.48928843,  0.50545103,  0.28381332, -1.04601299,  1.50282077,\n",
       "        0.28381332,  0.28381332, -1.82174501])"
      ]
     },
     "execution_count": 182,
     "metadata": {},
     "output_type": "execute_result"
    }
   ],
   "source": [
    "ts_age = np.array(Training_set[\"age\"])\n",
    "mean = np.mean(ts_age)\n",
    "std = np.std(ts_age)\n",
    "ts_age = ts_age - mean\n",
    "ts_age = ts_age / std\n",
    "ts_age"
   ]
  },
  {
   "cell_type": "code",
   "execution_count": 183,
   "id": "6917728a",
   "metadata": {},
   "outputs": [
    {
     "data": {
      "text/plain": [
       "array([ 0.75752504,  1.61121989, -0.6652997 , -0.0961698 , -0.0961698 ,\n",
       "       -0.6652997 ,  0.47296009, -0.6652997 , -0.0961698 ,  0.47296009,\n",
       "        0.47296009,  0.47296009, -0.0961698 , -0.6652997 ,  2.29417576,\n",
       "        1.04208999, -1.2344296 ,  0.47296009, -0.0961698 , -0.0961698 ,\n",
       "       -1.2344296 ,  1.04208999, -0.6652997 ,  0.01765618, -0.0961698 ,\n",
       "       -0.6652997 , -0.6652997 ,  1.04208999,  1.04208999, -1.2344296 ,\n",
       "        0.47296009, -0.83603867,  0.47296009,  0.18839514, -0.0961698 ,\n",
       "        0.47296009, -0.6652997 ,  1.04208999,  0.01765618,  1.04208999,\n",
       "        1.04208999,  0.47296009,  1.61121989,  1.04208999, -0.0961698 ,\n",
       "       -1.12060362, -1.2344296 ,  1.04208999,  0.47296009, -0.0961698 ,\n",
       "       -1.51899455, -0.6652997 , -1.12060362, -0.0961698 , -0.0961698 ,\n",
       "       -0.43764774,  0.47296009, -1.2344296 , -0.38073475, -0.38073475,\n",
       "       -0.0961698 ,  0.58678607, -0.20999578,  0.18839514, -0.6652997 ,\n",
       "        0.75752504,  0.47296009,  1.04208999,  2.18034978,  1.04208999,\n",
       "        1.32665494, -0.38073475, -0.6652997 , -1.2344296 , -1.2344296 ,\n",
       "        1.61121989, -0.38073475,  0.47296009, -0.0961698 ,  1.04208999,\n",
       "       -1.57590754, -0.0961698 ,  0.47296009,  2.74947968, -0.6652997 ,\n",
       "        0.47296009,  0.35913411, -0.20999578,  0.35913411, -0.0961698 ,\n",
       "       -0.6652997 ,  1.61121989, -0.0961698 , -1.34825558,  0.18839514,\n",
       "       -0.20999578, -1.2344296 ,  1.04208999,  0.13148215, -0.55147372,\n",
       "       -0.94986465, -0.77912568, -0.20999578, -1.2344296 , -0.6652997 ,\n",
       "       -1.34825558,  0.47296009, -0.20999578, -0.6652997 , -0.77912568,\n",
       "        0.75752504, -0.38073475, -0.77912568,  0.01765618, -0.0961698 ,\n",
       "        0.18839514,  0.47296009,  0.35913411, -0.0961698 ,  0.18839514,\n",
       "       -0.0961698 ,  1.04208999, -1.80355949,  0.47296009,  0.35913411,\n",
       "       -0.0961698 ,  3.88773947, -1.2344296 , -0.6652997 , -0.43764774,\n",
       "       -0.6652997 , -2.14503743, -0.0961698 ,  0.47296009, -0.55147372,\n",
       "        0.18839514,  0.75752504, -0.6652997 , -0.6652997 , -0.38073475,\n",
       "        0.47296009,  2.18034978, -0.20999578, -0.38073475, -1.51899455,\n",
       "       -1.34825558,  1.89578483, -1.12060362, -0.20999578, -1.68973352,\n",
       "        1.15591597, -1.68973352, -0.94986465,  1.61121989, -0.6652997 ,\n",
       "       -0.0961698 ,  0.47296009, -0.38073475,  0.47296009, -0.77912568,\n",
       "       -1.7466465 , -0.38073475, -1.2344296 , -1.80355949, -0.43764774,\n",
       "        0.01765618,  0.35913411,  0.01765618, -0.32382176, -1.12060362,\n",
       "        1.61121989,  0.58678607,  2.40800174,  0.47296009,  0.75752504,\n",
       "        1.15591597, -1.34825558,  0.01765618, -0.0961698 , -0.0961698 ,\n",
       "       -0.43764774,  0.13148215,  0.92826401,  2.6356537 ,  1.49739391,\n",
       "        0.47296009, -0.6652997 ,  1.61121989,  3.43243556,  0.47296009,\n",
       "       -0.15308279,  0.47296009,  0.01765618,  0.35913411, -0.6652997 ,\n",
       "       -1.80355949,  1.61121989,  0.35913411, -0.6652997 ,  1.61121989,\n",
       "       -1.2344296 ,  2.74947968,  1.04208999,  0.47296009, -1.2344296 ,\n",
       "        0.58678607, -0.20999578,  0.70061205, -0.0961698 ,  1.04208999,\n",
       "       -0.6652997 , -0.6652997 , -0.0961698 ,  2.6356537 , -1.12060362,\n",
       "       -0.6652997 , -1.51899455,  0.35913411, -0.0961698 ,  0.35913411,\n",
       "       -1.12060362, -1.34825558, -2.14503743, -0.49456073, -1.34825558,\n",
       "       -0.77912568, -1.12060362,  1.15591597, -1.2344296 , -1.12060362,\n",
       "        0.24530813,  2.74947968, -0.77912568, -0.6652997 ,  1.61121989,\n",
       "       -0.55147372, -0.0961698 , -0.6652997 ,  0.13148215, -0.6652997 ,\n",
       "       -1.2344296 , -0.32382176, -0.0961698 ,  0.13148215, -0.6652997 ,\n",
       "       -0.6652997 , -1.80355949, -1.2344296 , -0.38073475, -0.20999578,\n",
       "       -1.2344296 ,  0.81443803, -0.20999578, -0.6652997 , -0.94986465,\n",
       "       -0.6652997 , -1.46208156,  0.47296009,  1.38356793, -0.43764774,\n",
       "       -0.77912568,  0.24530813,  1.04208999, -0.6652997 ,  0.35913411,\n",
       "        0.24530813, -0.20999578, -0.32382176,  1.15591597, -0.0961698 ,\n",
       "        0.47296009,  1.61121989,  0.47296009, -1.12060362,  0.13148215,\n",
       "        2.18034978,  0.81443803,  0.35913411,  1.26974195, -0.0961698 ,\n",
       "       -1.2344296 , -0.0961698 , -0.20999578, -0.55147372,  0.92826401,\n",
       "       -1.00677764,  2.18034978, -0.38073475, -0.0961698 , -0.6652997 ,\n",
       "        1.15591597,  0.01765618, -0.6652997 ,  0.47296009, -0.43764774,\n",
       "       -0.6652997 ,  1.83887184,  0.47296009, -1.2344296 ,  0.70061205,\n",
       "       -0.0961698 , -0.0961698 ,  0.35913411])"
      ]
     },
     "execution_count": 183,
     "metadata": {},
     "output_type": "execute_result"
    }
   ],
   "source": [
    "ts_trestbps = np.array(Training_set[\"trestbps\"])\n",
    "mean = np.mean(ts_trestbps)\n",
    "std = np.std(ts_trestbps)\n",
    "ts_trestbps = ts_trestbps - mean\n",
    "ts_trestbps = ts_trestbps / std\n",
    "ts_trestbps"
   ]
  },
  {
   "cell_type": "code",
   "execution_count": 184,
   "id": "5f811b3f",
   "metadata": {},
   "outputs": [
    {
     "data": {
      "text/plain": [
       "array([ 0.01719733, -1.82190531, -0.90235399,  1.63735918,  0.98053681,\n",
       "        1.24326576,  0.45507891,  0.58644339, -0.11416714,  0.23613812,\n",
       "       -0.07037899,  0.1485618 , -0.33310794,  1.02432497,  0.54265523,\n",
       "        1.06811312,  0.80538418,  0.45507891, -0.46447241,  0.93674865,\n",
       "       -0.24553162,  0.54265523,  0.45507891,  1.02432497, -0.77098952,\n",
       "        0.36750259,  0.98053681, -1.55917636,  0.93674865, -1.55917636,\n",
       "        0.06098549,  0.45507891,  0.36750259,  0.49886707,  1.28705392,\n",
       "        1.24326576, -1.29644741, -1.64675268, -0.77098952, -0.55204873,\n",
       "       -1.55917636,  1.24326576,  0.54265523,  0.32371444,  0.84917233,\n",
       "        0.6740197 , -1.16508294, -0.94614215,  0.32371444,  0.10477365,\n",
       "        0.80538418, -0.42068425,  0.1485618 ,  1.68114734, -0.24553162,\n",
       "       -1.77811715,  0.58644339,  0.36750259,  0.10477365, -1.07750662,\n",
       "       -0.33310794,  0.45507891, -0.81477768,  0.89296049, -1.60296452,\n",
       "       -0.33310794,  0.23613812,  0.6740197 , -0.42068425, -0.11416714,\n",
       "       -0.07037899,  0.58644339, -2.21599874,  0.36750259,  1.1994776 ,\n",
       "        0.06098549, -0.37689609, -0.33310794,  1.33084207, -1.69054084,\n",
       "       -0.07037899, -0.28931978,  1.41841839,  0.01719733,  0.98053681,\n",
       "        1.33084207,  0.27992628, -1.51538821,  0.45507891, -0.02659083,\n",
       "        0.06098549, -0.20174346, -0.1579553 ,  1.11190128,  0.98053681,\n",
       "        0.49886707, -0.33310794,  0.32371444,  0.36750259,  1.59357102,\n",
       "        1.54978286,  1.06811312,  0.41129075, -0.85856583, -0.46447241,\n",
       "        0.27992628,  0.54265523,  0.01719733, -0.42068425, -0.42068425,\n",
       "       -0.1579553 , -0.24553162,  1.76872365, -0.59583688, -2.30357505,\n",
       "       -0.77098952,  0.6740197 ,  1.41841839, -0.77098952, -0.98993031,\n",
       "        0.01719733,  0.19234996, -0.28931978, -1.69054084,  1.06811312,\n",
       "        1.11190128, -0.72720136, -1.03371847,  0.89296049,  0.58644339,\n",
       "       -0.11416714,  0.19234996,  2.29418155,  1.59357102,  0.6740197 ,\n",
       "        0.49886707, -1.07750662, -2.0408461 , -0.85856583,  0.71780786,\n",
       "        0.63023154,  0.41129075,  1.50599471, -0.81477768,  0.19234996,\n",
       "        0.10477365, -1.12129478,  1.28705392,  0.89296049,  0.45507891,\n",
       "        1.24326576, -1.2088711 ,  0.45507891, -0.20174346, -2.34736321,\n",
       "       -1.77811715,  1.02432497,  0.93674865,  0.89296049,  0.06098549,\n",
       "        0.27992628,  0.54265523,  0.36750259, -1.2088711 ,  1.11190128,\n",
       "        0.80538418,  0.84917233,  0.41129075,  0.27992628, -0.50826057,\n",
       "       -1.64675268, -1.69054084, -0.28931978,  0.32371444, -0.77098952,\n",
       "       -2.69766847, -0.11416714, -1.95326979,  0.54265523,  1.02432497,\n",
       "        0.71780786,  0.01719733,  1.24326576, -0.20174346,  0.49886707,\n",
       "        1.28705392,  1.94387629, -1.29644741,  1.98766445, -0.1579553 ,\n",
       "        0.58644339, -1.2088711 , -0.28931978, -1.90948163, -1.51538821,\n",
       "       -1.07750662, -0.81477768,  0.10477365,  0.54265523, -1.07750662,\n",
       "        0.41129075,  0.19234996,  1.02432497, -0.72720136,  0.49886707,\n",
       "       -0.11416714, -0.85856583, -1.03371847,  0.23613812,  0.19234996,\n",
       "        0.89296049,  1.41841839,  0.80538418,  0.6740197 ,  0.45507891,\n",
       "        0.54265523,  0.98053681,  0.10477365, -1.2088711 ,  1.41841839,\n",
       "        0.98053681,  0.76159602,  1.28705392, -2.39115137,  0.84917233,\n",
       "        1.85629997, -0.28931978,  0.98053681, -1.82190531, -0.77098952,\n",
       "        0.84917233, -1.42781189, -1.03371847, -1.25265926,  0.58644339,\n",
       "       -1.47160005, -2.0408461 , -0.24553162,  0.54265523,  0.54265523,\n",
       "        0.1485618 ,  0.58644339,  0.58644339, -0.20174346, -2.34736321,\n",
       "       -3.44206716,  0.27992628, -1.38402373,  0.80538418, -0.42068425,\n",
       "       -1.03371847, -1.95326979, -1.95326979,  0.32371444,  1.37463023,\n",
       "        1.02432497, -0.33310794, -1.47160005, -0.28931978, -0.37689609,\n",
       "       -0.02659083,  0.10477365,  0.93674865,  0.84917233, -1.07750662,\n",
       "       -1.07750662,  0.27992628, -0.6834132 ,  1.37463023,  0.01719733,\n",
       "       -0.50826057, -0.50826057, -1.29644741, -1.07750662,  0.54265523,\n",
       "        0.23613812,  0.10477365,  0.10477365,  0.63023154, -0.81477768,\n",
       "       -0.28931978,  1.28705392, -0.85856583,  1.06811312,  0.49886707,\n",
       "       -0.42068425, -0.1579553 , -0.24553162,  0.58644339,  0.84917233,\n",
       "        0.01719733,  0.71780786, -0.24553162, -0.24553162, -0.59583688,\n",
       "        1.41841839, -2.61009216, -1.16508294, -0.77098952, -0.37689609,\n",
       "       -1.51538821,  1.06811312,  1.02432497])"
      ]
     },
     "execution_count": 184,
     "metadata": {},
     "output_type": "execute_result"
    }
   ],
   "source": [
    "ts_thalach = np.array(Training_set[\"thalach\"])\n",
    "mean = np.mean(ts_thalach)\n",
    "std = np.std(ts_thalach)\n",
    "ts_thalach = ts_thalach - mean\n",
    "ts_thalach = ts_thalach / std\n",
    "ts_thalach"
   ]
  },
  {
   "cell_type": "code",
   "execution_count": 185,
   "id": "9bfd968c",
   "metadata": {},
   "outputs": [],
   "source": [
    "ts_target = np.array(Training_set[\"heart_disease\"])"
   ]
  },
  {
   "cell_type": "code",
   "execution_count": 186,
   "id": "29acdd9a",
   "metadata": {},
   "outputs": [],
   "source": [
    "def cost_calc(w1,w2,w3,w4,w5,w6,w7,w8,w9,b):\n",
    "    cost = 0\n",
    "    m = len(ts_age)\n",
    "    for i in range(len(ts_age)):\n",
    "        y = ts_target[i]\n",
    "        y_hat = w1*ts_age[i] + ts_trestbps[i]*w2 + ts_thalach[i]*w3 + w4*ts_age[i]*ts_trestbps[i] +  w5*ts_age[i]*ts_thalach[i] + w6*ts_thalach[i]*ts_trestbps[i]+ w7*ts_age[i]*ts_age[i] + w8*ts_trestbps[i]*ts_trestbps[i] + w9*ts_thalach[i]*ts_thalach[i] + b\n",
    "        y_hat = 1 / (1 + math.exp(-y_hat))\n",
    "        eps = 1e-15\n",
    "        y_hat = max(min(y_hat, 1 - eps), eps)\n",
    "        current_cost = (-y* math.log(y_hat)) - ((1-y)* math.log(1-y_hat))\n",
    "        cost += current_cost\n",
    "    return cost/m"
   ]
  },
  {
   "cell_type": "code",
   "execution_count": 187,
   "id": "9a101610",
   "metadata": {},
   "outputs": [
    {
     "data": {
      "text/plain": [
       "np.float64(9.50277289502943)"
      ]
     },
     "execution_count": 187,
     "metadata": {},
     "output_type": "execute_result"
    }
   ],
   "source": [
    "cost_calc(1,2,3,4,6,3,2,4,7,8)"
   ]
  },
  {
   "cell_type": "code",
   "execution_count": 188,
   "id": "18558fb4",
   "metadata": {},
   "outputs": [],
   "source": [
    "def gradient_comp(w1,w2,w3,w4,w5,w6,w7,w8,w9,b):\n",
    "    m = len(ts_age)\n",
    "    dw1 = 0\n",
    "    dw2 = 0\n",
    "    dw3 = 0\n",
    "    dw4 = 0\n",
    "    dw5 = 0\n",
    "    dw6 = 0\n",
    "    dw7 = 0\n",
    "    dw8 = 0\n",
    "    dw9 = 0\n",
    "    db = 0\n",
    "    for i in range(m):\n",
    "        y_hat = w1*ts_age[i] + ts_trestbps[i]*w2 + ts_thalach[i]*w3 + w4*ts_age[i]*ts_trestbps[i] +  w5*ts_age[i]*ts_thalach[i] + w6*ts_thalach[i]*ts_trestbps[i]+ w7*ts_age[i]*ts_age[i] + w8*ts_trestbps[i]*ts_trestbps[i] + w9*ts_thalach[i]*ts_thalach[i] + b\n",
    "        y_hat = 1 / (1 + math.exp(-y_hat))\n",
    "        y = ts_target[i]\n",
    "        dw1 += ((y_hat - y)*ts_age[i])/m\n",
    "        dw2 += ((y_hat - y)*ts_trestbps[i])/m\n",
    "        dw3 += ((y_hat - y)*ts_thalach[i])/m\n",
    "        dw4 += ((y_hat - y) * ts_age[i] * ts_trestbps[i]) / m\n",
    "        dw5 += ((y_hat - y) * ts_age[i] * ts_thalach[i]) / m\n",
    "        dw6 += ((y_hat - y) * ts_thalach[i] * ts_trestbps[i]) / m\n",
    "        dw7 += ((y_hat - y) * ts_age[i] * ts_age[i]) / m\n",
    "        dw8 += ((y_hat - y) * ts_trestbps[i] * ts_trestbps[i]) / m\n",
    "        dw9 += ((y_hat - y) * ts_thalach[i] * ts_thalach[i]) / m\n",
    "        db += (y_hat  - y)/m\n",
    "    return dw1,dw2,dw3,dw4,dw5,dw6,dw7,dw8,dw9,db"
   ]
  },
  {
   "cell_type": "code",
   "execution_count": 189,
   "id": "18ac7e5d",
   "metadata": {},
   "outputs": [],
   "source": [
    "def gradient_descent(epochs=2000,learning_rate=0.01):\n",
    "    w1=0\n",
    "    w2=0\n",
    "    w3=0\n",
    "    w4=0\n",
    "    w5=0\n",
    "    w6=0\n",
    "    w7=0\n",
    "    w8=0\n",
    "    w9=0\n",
    "    b =0\n",
    "    cost_history = []\n",
    "    m = len(ts_age)\n",
    "    for i in range (epochs):\n",
    "        dw1,dw2,dw3,dw4,dw5,dw6,dw7,dw8,dw9,db = gradient_comp(w1,w2,w3,w4,w5,w6,w7,w8,w9,b)\n",
    "        w1 = w1 - learning_rate*dw1\n",
    "        w2 = w2 - learning_rate*dw2\n",
    "        w3 = w3 - learning_rate*dw3\n",
    "        w4 = w4 - learning_rate*dw4\n",
    "        w5 = w5 - learning_rate*dw5\n",
    "        w6 = w6 - learning_rate*dw6\n",
    "        w7 = w7 - learning_rate*dw7\n",
    "        w8 = w8 - learning_rate*dw8\n",
    "        w9 = w9 - learning_rate*dw9\n",
    "        b  = b  - learning_rate*db\n",
    "        if i%100==0:\n",
    "            cost = cost_calc(w1,w2,w3,w4,w5,w6,w7,w8,w9,b)\n",
    "            print(cost)\n",
    "            cost_history.append(cost)\n",
    "    x_points = np.linspace(1,epochs//100,epochs//100)\n",
    "    sns.lineplot(x = x_points, y = cost_history, color = \"red\", label = \"Error after every 100 steps\") \n",
    "    plt.xlabel(\"iterations\")\n",
    "    plt.ylabel(\"Cost\")\n",
    "    plt.legend()\n",
    "    plt.show()\n",
    "\n",
    "    return w1,w2,w3,w4,w5,w6,w7,w8,w9,b"
   ]
  },
  {
   "cell_type": "code",
   "execution_count": 190,
   "id": "3752745d",
   "metadata": {},
   "outputs": [
    {
     "name": "stdout",
     "output_type": "stream",
     "text": [
      "0.69225346154559\n"
     ]
    },
    {
     "name": "stdout",
     "output_type": "stream",
     "text": [
      "0.6348300984381742\n",
      "0.6090976572545923\n",
      "0.5952351089519482\n",
      "0.5867909170957333\n",
      "0.5811957410414845\n",
      "0.5772596851808678\n",
      "0.5743661093077355\n",
      "0.5721667980812163\n",
      "0.5704513892776215\n",
      "0.569085706060913\n",
      "0.5679802713702552\n",
      "0.5670731756585808\n",
      "0.5663202447433132\n",
      "0.5656891344277649\n",
      "0.5651556406191385\n",
      "0.5647013124015448\n",
      "0.5643118600247756\n",
      "0.5639760640373851\n",
      "0.563685009826567\n"
     ]
    },
    {
     "data": {
      "image/png": "[encoded data removed]",
      "text/plain": [
       "<Figure size 640x480 with 1 Axes>"
      ]
     },
     "metadata": {},
     "output_type": "display_data"
    },
    {
     "name": "stdout",
     "output_type": "stream",
     "text": [
      "0.14276837646536344 0.2469134084659433 -0.8948455312587823 -0.107758214705338 0.48980365397459263 -0.14584285752861828 -0.08743802344634025 0.04934514308066269 0.12870816809597066 -0.09853057600419224\n"
     ]
    }
   ],
   "source": [
    "ow1,ow2,ow3,ow4,ow5,ow6,ow7,ow8,ow9,ob = gradient_descent()\n",
    "print(ow1,ow2,ow3,ow4,ow5,ow6,ow7,ow8,ow9,ob)"
   ]
  },
  {
   "cell_type": "code",
   "execution_count": 191,
   "id": "88927166",
   "metadata": {},
   "outputs": [],
   "source": [
    "def predict_heart_disease(age, trestbps, thalach):\n",
    "    x1 = (age - (Training_set[\"age\"].mean()))/ Training_set[\"age\"].std()\n",
    "    x2 = (trestbps- (Training_set[\"trestbps\"].mean()))/ Training_set[\"trestbps\"].std()\n",
    "    x3 = (thalach- (Training_set[\"thalach\"].mean()))/ Training_set[\"thalach\"].std()\n",
    "    result = ow1*x1 + x2*ow2 + x3*ow3 +ow4*x1*x2 + ow5*x1*x3 + ow6*x2*x3 + ow7*x1*x1 +ow8*x2*x2 + ow9*x3*x3 + ob\n",
    "    result = 1 / (1 + math.exp(-result))\n",
    "    if result >0.5:\n",
    "        print(\"You might have a heart problem get diagnosed\")\n",
    "    else:\n",
    "        print(\"You are fine but you can still go for a diagnose\")\n",
    "    \n"
   ]
  },
  {
   "cell_type": "code",
   "execution_count": 192,
   "id": "e97d12da",
   "metadata": {},
   "outputs": [
    {
     "name": "stdout",
     "output_type": "stream",
     "text": [
      "You are fine but you can still go for a diagnose\n"
     ]
    }
   ],
   "source": [
    "\n",
    "predict_heart_disease(50, 120, 160) "
   ]
  }
 ],
 "metadata": {
  "kernelspec": {
   "display_name": "Python 3",
   "language": "python",
   "name": "python3"
  },
  "language_info": {
   "codemirror_mode": {
    "name": "ipython",
    "version": 3
   },
   "file_extension": ".py",
   "mimetype": "text/x-python",
   "name": "python",
   "nbconvert_exporter": "python",
   "pygments_lexer": "ipython3",
   "version": "3.13.6"
  }
 },
 "nbformat": 4,
 "nbformat_minor": 5
}
